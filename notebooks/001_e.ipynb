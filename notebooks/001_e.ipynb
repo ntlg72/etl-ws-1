{
 "cells": [
  {
   "cell_type": "markdown",
   "metadata": {},
   "source": [
    "# Extraction notebook \n",
    "\n",
    "The process conducted in this notebook involves reading the *candidates* dataset, transforming it into a Pandas DataFrame for easy manipulation, and then writing the processed data to a MySQL database. "
   ]
  },
  {
   "cell_type": "markdown",
   "metadata": {},
   "source": [
    "### Importing libraries and modules\n",
    "\n",
    "The os and dotenv libraries are used to manage environment variables securely, allowing for the seamless loading of database credentials from a .env file. The sqlalchemy library, including its create_engine and text modules, provides a powerful ORM (Object-Relational Mapping) capability, enabling efficient interaction with the MySQL database. Finally, the pandas library is utilized to handle the candidates dataset, transforming it into a DataFrame for easy manipulation, analysis, and eventually writing it to the MySQL database."
   ]
  },
  {
   "cell_type": "code",
   "execution_count": 1,
   "metadata": {},
   "outputs": [],
   "source": [
    "import os\n",
    "from dotenv import load_dotenv\n",
    "from sqlalchemy import create_engine, text\n",
    "import pandas as pd"
   ]
  },
  {
   "cell_type": "markdown",
   "metadata": {},
   "source": [
    "### Establishing the database connection"
   ]
  },
  {
   "cell_type": "code",
   "execution_count": 2,
   "metadata": {},
   "outputs": [
    {
     "name": "stdout",
     "output_type": "stream",
     "text": [
      "Connected to the database successfully\n"
     ]
    }
   ],
   "source": [
    "# Load environment variables from the .env file\n",
    "load_dotenv()\n",
    "\n",
    "# Get the MySQL credentials from environment variables\n",
    "user = os.getenv('MYSQL_USER')\n",
    "password = os.getenv('MYSQL_PASSWORD')\n",
    "host = os.getenv('MYSQL_HOST')\n",
    "port = os.getenv('MYSQL_PORT')\n",
    "dbname = os.getenv('MYSQL_DB')\n",
    "\n",
    "# Create the database URL\n",
    "db_url = f\"mysql+mysqlconnector://{user}:{password}@{host}:{port}/{dbname}\"\n",
    "\n",
    "# Create an engine instance\n",
    "try:\n",
    "    engine = create_engine(db_url)\n",
    "    connection = engine.connect()\n",
    "    print(\"Connected to the database successfully\")\n",
    "    connection.close()\n",
    "except Exception as e:\n",
    "    print(f\"Error: {e}\")\n"
   ]
  },
  {
   "cell_type": "markdown",
   "metadata": {},
   "source": [
    "### Reading the dataset and Writing it to the databse"
   ]
  },
  {
   "cell_type": "code",
   "execution_count": 5,
   "metadata": {},
   "outputs": [
    {
     "name": "stdout",
     "output_type": "stream",
     "text": [
      "CSV file loaded and formatted successfully:\n",
      "   first_name   last_name                      email application_date  \\\n",
      "0  Bernadette   Langworth        leonard91@yahoo.com       2021-02-26   \n",
      "1      Camryn    Reynolds        zelda56@hotmail.com       2021-09-09   \n",
      "2       Larue      Spinka   okey_schultz41@gmail.com       2020-04-14   \n",
      "3        Arch      Spinka     elvera_kulas@yahoo.com       2020-10-01   \n",
      "4       Larue  Altenwerth  minnie.gislason@gmail.com       2020-05-20   \n",
      "\n",
      "   country  yoe  seniority                         technology  \\\n",
      "0   Norway    2     Intern                      Data Engineer   \n",
      "1   Panama   10     Intern                      Data Engineer   \n",
      "2  Belarus    4  Mid-Level                     Client Success   \n",
      "3  Eritrea   25    Trainee                          QA Manual   \n",
      "4  Myanmar   13  Mid-Level  Social Media Community Management   \n",
      "\n",
      "   code_challenge_score  technical_interview  \n",
      "0                     3                    3  \n",
      "1                     2                   10  \n",
      "2                    10                    9  \n",
      "3                     7                    1  \n",
      "4                     9                    7  \n",
      "Data successfully inserted into 'candidates' in database 'ws_001'!\n",
      "✅ Data successfully inserted into 'candidates' in database 'ws_001'!\n"
     ]
    }
   ],
   "source": [
    "csv_url = \"../data/candidates.csv\"\n",
    "\n",
    "try:\n",
    "    # Read CSV using semicolon (;) as separator\n",
    "    df = pd.read_csv(csv_url, sep=\";\")\n",
    "\n",
    "    # Rename columns to match MySQL table schema\n",
    "    df.rename(columns={\n",
    "        \"First Name\": \"first_name\",\n",
    "        \"Last Name\": \"last_name\",\n",
    "        \"Email\": \"email\",\n",
    "        \"Application Date\": \"application_date\",\n",
    "        \"Country\": \"country\",\n",
    "        \"YOE\": \"yoe\",\n",
    "        \"Seniority\": \"seniority\",\n",
    "        \"Technology\": \"technology\",\n",
    "        \"Code Challenge Score\": \"code_challenge_score\",\n",
    "        \"Technical Interview Score\": \"technical_interview\"\n",
    "    }, inplace=True)\n",
    "\n",
    "    # Convert 'application_date' to DATE format\n",
    "    df[\"application_date\"] = pd.to_datetime(df[\"application_date\"], dayfirst=True).dt.date\n",
    "\n",
    "    print(\"CSV file loaded and formatted successfully:\")\n",
    "    print(df.head())  # Display first few rows for verification\n",
    "\n",
    "    # Insert data into MySQL table\n",
    "    df.to_sql(name=\"candidates\", con=engine, if_exists='append', index=False)\n",
    "    print(f\"Data successfully inserted into '{\"candidates\"}' in database '{dbname}'!\")\n",
    "\n",
    "\n",
    "    print(f\"✅ Data successfully inserted into '{\"candidates\"}' in database '{dbname}'!\")\n",
    "except Exception as e:\n",
    "    print(f\"❌ Error: {e}\")\n"
   ]
  },
  {
   "cell_type": "code",
   "execution_count": null,
   "metadata": {},
   "outputs": [],
   "source": []
  }
 ],
 "metadata": {
  "kernelspec": {
   "display_name": "venv",
   "language": "python",
   "name": "python3"
  },
  "language_info": {
   "codemirror_mode": {
    "name": "ipython",
    "version": 3
   },
   "file_extension": ".py",
   "mimetype": "text/x-python",
   "name": "python",
   "nbconvert_exporter": "python",
   "pygments_lexer": "ipython3",
   "version": "3.12.9"
  }
 },
 "nbformat": 4,
 "nbformat_minor": 2
}
