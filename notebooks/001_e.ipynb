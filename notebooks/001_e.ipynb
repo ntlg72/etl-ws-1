{
 "cells": [
  {
   "cell_type": "code",
   "execution_count": 1,
   "metadata": {},
   "outputs": [
    {
     "name": "stdout",
     "output_type": "stream",
     "text": [
      "Connected to the database successfully\n"
     ]
    }
   ],
   "source": [
    "import os\n",
    "from dotenv import load_dotenv\n",
    "from sqlalchemy import create_engine, text\n",
    "\n",
    "# Load environment variables from the .env file\n",
    "load_dotenv()\n",
    "\n",
    "# Get the MySQL credentials from environment variables\n",
    "user = os.getenv('MYSQL_USER')\n",
    "password = os.getenv('MYSQL_PASSWORD')\n",
    "host = os.getenv('MYSQL_HOST')\n",
    "port = os.getenv('MYSQL_PORT')\n",
    "dbname = os.getenv('MYSQL_DB')\n",
    "\n",
    "# Create the database URL\n",
    "db_url = f\"mysql+mysqlconnector://{user}:{password}@{host}:{port}/{dbname}\"\n",
    "\n",
    "# Create an engine instance\n",
    "try:\n",
    "    engine = create_engine(db_url)\n",
    "    connection = engine.connect()\n",
    "    print(\"Connected to the database successfully\")\n",
    "    connection.close()\n",
    "except Exception as e:\n",
    "    print(f\"Error: {e}\")\n"
   ]
  },
  {
   "cell_type": "code",
   "execution_count": 6,
   "metadata": {},
   "outputs": [
    {
     "name": "stdout",
     "output_type": "stream",
     "text": [
      "Structure of 'candidates' table in 'ws_001':\n",
      "Field               Type                Null      Key       Default   Extra               \n",
      "------------------------------------------------------------------------------------------\n",
      "first_name          varchar(50)         YES                 NULL                          \n",
      "last_name           varchar(50)         YES                 NULL                          \n",
      "email               varchar(100)        YES                 NULL                          \n",
      "country             varchar(50)         YES                 NULL                          \n",
      "application_date    date                YES                 NULL                          \n",
      "yoe                 int                 YES                 NULL                          \n",
      "seniority           varchar(50)         YES                 NULL                          \n",
      "technology          varchar(50)         YES                 NULL                          \n",
      "code_challenge_scoreint                 YES                 NULL                          \n",
      "technical_interview varchar(50)         YES                 NULL                          \n"
     ]
    }
   ],
   "source": [
    "try:\n",
    "    with engine.connect() as connection:\n",
    "        result = connection.execute(text(\"DESC candidates;\"))\n",
    "        columns = result.fetchall()\n",
    "\n",
    "        print(f\"Structure of 'candidates' table in '{dbname}':\")\n",
    "        print(f\"{'Field':<20}{'Type':<20}{'Null':<10}{'Key':<10}{'Default':<10}{'Extra':<20}\")\n",
    "        print(\"-\" * 90)\n",
    "        for column in columns:\n",
    "            print(f\"{column[0]:<20}{column[1]:<20}{column[2]:<10}{column[3]:<10}{column[4] or 'NULL':<10}{column[5]:<20}\")\n",
    "except Exception as e:\n",
    "    print(f\"Error executing query: {e}\")"
   ]
  },
  {
   "cell_type": "code",
   "execution_count": null,
   "metadata": {},
   "outputs": [],
   "source": []
  }
 ],
 "metadata": {
  "kernelspec": {
   "display_name": "venv",
   "language": "python",
   "name": "python3"
  },
  "language_info": {
   "codemirror_mode": {
    "name": "ipython",
    "version": 3
   },
   "file_extension": ".py",
   "mimetype": "text/x-python",
   "name": "python",
   "nbconvert_exporter": "python",
   "pygments_lexer": "ipython3",
   "version": "3.12.9"
  }
 },
 "nbformat": 4,
 "nbformat_minor": 2
}
