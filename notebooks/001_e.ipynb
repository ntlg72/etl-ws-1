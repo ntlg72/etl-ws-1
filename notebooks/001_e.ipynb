{
 "cells": [
  {
   "cell_type": "markdown",
   "metadata": {},
   "source": [
    "# Notebook 1: Extraction \n",
    "\n",
    "The process conducted in this notebook involves reading the *candidates* dataset, transforming it into a Pandas DataFrame for easy manipulation, and then writing the processed data to a MySQL database. "
   ]
  },
  {
   "cell_type": "markdown",
   "metadata": {},
   "source": [
    "### Importing libraries and modules\n",
    "\n",
    "The os and dotenv libraries are used to manage environment variables securely, allowing for the seamless loading of database credentials from a .env file. The sqlalchemy library, including its create_engine and text modules, provides a powerful ORM (Object-Relational Mapping) capability, enabling efficient interaction with the MySQL database. Finally, the pandas library is utilized to handle the candidates dataset, transforming it into a DataFrame for easy manipulation, analysis, and eventually writing it to the MySQL database."
   ]
  },
  {
   "cell_type": "code",
   "execution_count": 7,
   "metadata": {},
   "outputs": [],
   "source": [
    "import sys\n",
    "import os\n",
    "from dotenv import load_dotenv\n",
    "from sqlalchemy import create_engine, text, types as sqltypes, Column, Integer,String, BigInteger\n",
    "from sqlalchemy.ext.declarative import declarative_base\n",
    "from sqlalchemy.orm import declarative_base\n",
    "import pandas as pd"
   ]
  },
  {
   "cell_type": "markdown",
   "metadata": {},
   "source": [
    "### Establishing the database connection"
   ]
  },
  {
   "cell_type": "code",
   "execution_count": 9,
   "metadata": {},
   "outputs": [
    {
     "name": "stdout",
     "output_type": "stream",
     "text": [
      "Connected to the database successfully\n"
     ]
    }
   ],
   "source": [
    "# Add the 'src' directory to the PYTHONPATH\n",
    "sys.path.append(os.path.abspath('../src'))\n",
    "\n",
    "# Importing the utility function from the db_utils module within the mypackage package\n",
    "from connection.db_utils import get_db_connection, read_candidates_table\n",
    "\n",
    "# Get the database connection\n",
    "connection = get_db_connection()"
   ]
  },
  {
   "cell_type": "markdown",
   "metadata": {},
   "source": [
    "### Reading the dataset and transforming it into a dataframe"
   ]
  },
  {
   "cell_type": "code",
   "execution_count": 16,
   "metadata": {},
   "outputs": [
    {
     "data": {
      "text/html": [
       "<div>\n",
       "<style scoped>\n",
       "    .dataframe tbody tr th:only-of-type {\n",
       "        vertical-align: middle;\n",
       "    }\n",
       "\n",
       "    .dataframe tbody tr th {\n",
       "        vertical-align: top;\n",
       "    }\n",
       "\n",
       "    .dataframe thead th {\n",
       "        text-align: right;\n",
       "    }\n",
       "</style>\n",
       "<table border=\"1\" class=\"dataframe\">\n",
       "  <thead>\n",
       "    <tr style=\"text-align: right;\">\n",
       "      <th></th>\n",
       "      <th>First Name</th>\n",
       "      <th>Last Name</th>\n",
       "      <th>Email</th>\n",
       "      <th>Application Date</th>\n",
       "      <th>Country</th>\n",
       "      <th>YOE</th>\n",
       "      <th>Seniority</th>\n",
       "      <th>Technology</th>\n",
       "      <th>Code Challenge Score</th>\n",
       "      <th>Technical Interview Score</th>\n",
       "    </tr>\n",
       "  </thead>\n",
       "  <tbody>\n",
       "    <tr>\n",
       "      <th>0</th>\n",
       "      <td>Bernadette</td>\n",
       "      <td>Langworth</td>\n",
       "      <td>leonard91@yahoo.com</td>\n",
       "      <td>26/02/2021</td>\n",
       "      <td>Norway</td>\n",
       "      <td>2</td>\n",
       "      <td>Intern</td>\n",
       "      <td>Data Engineer</td>\n",
       "      <td>3</td>\n",
       "      <td>3</td>\n",
       "    </tr>\n",
       "    <tr>\n",
       "      <th>1</th>\n",
       "      <td>Camryn</td>\n",
       "      <td>Reynolds</td>\n",
       "      <td>zelda56@hotmail.com</td>\n",
       "      <td>09/09/2021</td>\n",
       "      <td>Panama</td>\n",
       "      <td>10</td>\n",
       "      <td>Intern</td>\n",
       "      <td>Data Engineer</td>\n",
       "      <td>2</td>\n",
       "      <td>10</td>\n",
       "    </tr>\n",
       "    <tr>\n",
       "      <th>2</th>\n",
       "      <td>Larue</td>\n",
       "      <td>Spinka</td>\n",
       "      <td>okey_schultz41@gmail.com</td>\n",
       "      <td>14/04/2020</td>\n",
       "      <td>Belarus</td>\n",
       "      <td>4</td>\n",
       "      <td>Mid-Level</td>\n",
       "      <td>Client Success</td>\n",
       "      <td>10</td>\n",
       "      <td>9</td>\n",
       "    </tr>\n",
       "    <tr>\n",
       "      <th>3</th>\n",
       "      <td>Arch</td>\n",
       "      <td>Spinka</td>\n",
       "      <td>elvera_kulas@yahoo.com</td>\n",
       "      <td>01/10/2020</td>\n",
       "      <td>Eritrea</td>\n",
       "      <td>25</td>\n",
       "      <td>Trainee</td>\n",
       "      <td>QA Manual</td>\n",
       "      <td>7</td>\n",
       "      <td>1</td>\n",
       "    </tr>\n",
       "    <tr>\n",
       "      <th>4</th>\n",
       "      <td>Larue</td>\n",
       "      <td>Altenwerth</td>\n",
       "      <td>minnie.gislason@gmail.com</td>\n",
       "      <td>20/05/2020</td>\n",
       "      <td>Myanmar</td>\n",
       "      <td>13</td>\n",
       "      <td>Mid-Level</td>\n",
       "      <td>Social Media Community Management</td>\n",
       "      <td>9</td>\n",
       "      <td>7</td>\n",
       "    </tr>\n",
       "    <tr>\n",
       "      <th>...</th>\n",
       "      <td>...</td>\n",
       "      <td>...</td>\n",
       "      <td>...</td>\n",
       "      <td>...</td>\n",
       "      <td>...</td>\n",
       "      <td>...</td>\n",
       "      <td>...</td>\n",
       "      <td>...</td>\n",
       "      <td>...</td>\n",
       "      <td>...</td>\n",
       "    </tr>\n",
       "    <tr>\n",
       "      <th>49995</th>\n",
       "      <td>Bethany</td>\n",
       "      <td>Shields</td>\n",
       "      <td>rocky_mitchell@hotmail.com</td>\n",
       "      <td>09/01/2022</td>\n",
       "      <td>Dominican Republic</td>\n",
       "      <td>27</td>\n",
       "      <td>Trainee</td>\n",
       "      <td>Security</td>\n",
       "      <td>2</td>\n",
       "      <td>1</td>\n",
       "    </tr>\n",
       "    <tr>\n",
       "      <th>49996</th>\n",
       "      <td>Era</td>\n",
       "      <td>Swaniawski</td>\n",
       "      <td>dolores.roob@hotmail.com</td>\n",
       "      <td>02/06/2020</td>\n",
       "      <td>Morocco</td>\n",
       "      <td>21</td>\n",
       "      <td>Lead</td>\n",
       "      <td>Game Development</td>\n",
       "      <td>1</td>\n",
       "      <td>2</td>\n",
       "    </tr>\n",
       "    <tr>\n",
       "      <th>49997</th>\n",
       "      <td>Martin</td>\n",
       "      <td>Lakin</td>\n",
       "      <td>savanah.stracke@gmail.com</td>\n",
       "      <td>15/12/2018</td>\n",
       "      <td>Uganda</td>\n",
       "      <td>20</td>\n",
       "      <td>Trainee</td>\n",
       "      <td>System Administration</td>\n",
       "      <td>6</td>\n",
       "      <td>1</td>\n",
       "    </tr>\n",
       "    <tr>\n",
       "      <th>49998</th>\n",
       "      <td>Aliya</td>\n",
       "      <td>Abernathy</td>\n",
       "      <td>vivienne.fritsch@yahoo.com</td>\n",
       "      <td>30/05/2020</td>\n",
       "      <td>Czech Republic</td>\n",
       "      <td>20</td>\n",
       "      <td>Senior</td>\n",
       "      <td>Database Administration</td>\n",
       "      <td>0</td>\n",
       "      <td>0</td>\n",
       "    </tr>\n",
       "    <tr>\n",
       "      <th>49999</th>\n",
       "      <td>Coleman</td>\n",
       "      <td>Wisozk</td>\n",
       "      <td>abigayle.crooks@yahoo.com</td>\n",
       "      <td>13/06/2022</td>\n",
       "      <td>Palau</td>\n",
       "      <td>15</td>\n",
       "      <td>Intern</td>\n",
       "      <td>Mulesoft</td>\n",
       "      <td>3</td>\n",
       "      <td>1</td>\n",
       "    </tr>\n",
       "  </tbody>\n",
       "</table>\n",
       "<p>50000 rows × 10 columns</p>\n",
       "</div>"
      ],
      "text/plain": [
       "       First Name   Last Name                       Email Application Date  \\\n",
       "0      Bernadette   Langworth         leonard91@yahoo.com       26/02/2021   \n",
       "1          Camryn    Reynolds         zelda56@hotmail.com       09/09/2021   \n",
       "2           Larue      Spinka    okey_schultz41@gmail.com       14/04/2020   \n",
       "3            Arch      Spinka      elvera_kulas@yahoo.com       01/10/2020   \n",
       "4           Larue  Altenwerth   minnie.gislason@gmail.com       20/05/2020   \n",
       "...           ...         ...                         ...              ...   \n",
       "49995     Bethany     Shields  rocky_mitchell@hotmail.com       09/01/2022   \n",
       "49996         Era  Swaniawski    dolores.roob@hotmail.com       02/06/2020   \n",
       "49997      Martin       Lakin   savanah.stracke@gmail.com       15/12/2018   \n",
       "49998       Aliya   Abernathy  vivienne.fritsch@yahoo.com       30/05/2020   \n",
       "49999     Coleman      Wisozk   abigayle.crooks@yahoo.com       13/06/2022   \n",
       "\n",
       "                  Country  YOE  Seniority                         Technology  \\\n",
       "0                  Norway    2     Intern                      Data Engineer   \n",
       "1                  Panama   10     Intern                      Data Engineer   \n",
       "2                 Belarus    4  Mid-Level                     Client Success   \n",
       "3                 Eritrea   25    Trainee                          QA Manual   \n",
       "4                 Myanmar   13  Mid-Level  Social Media Community Management   \n",
       "...                   ...  ...        ...                                ...   \n",
       "49995  Dominican Republic   27    Trainee                           Security   \n",
       "49996             Morocco   21       Lead                   Game Development   \n",
       "49997              Uganda   20    Trainee              System Administration   \n",
       "49998      Czech Republic   20     Senior            Database Administration   \n",
       "49999               Palau   15     Intern                           Mulesoft   \n",
       "\n",
       "       Code Challenge Score  Technical Interview Score  \n",
       "0                         3                          3  \n",
       "1                         2                         10  \n",
       "2                        10                          9  \n",
       "3                         7                          1  \n",
       "4                         9                          7  \n",
       "...                     ...                        ...  \n",
       "49995                     2                          1  \n",
       "49996                     1                          2  \n",
       "49997                     6                          1  \n",
       "49998                     0                          0  \n",
       "49999                     3                          1  \n",
       "\n",
       "[50000 rows x 10 columns]"
      ]
     },
     "execution_count": 16,
     "metadata": {},
     "output_type": "execute_result"
    }
   ],
   "source": [
    "csv_path = \"../data/candidates.csv\"\n",
    "\n",
    "df = pd.read_csv(csv_path, sep=\";\")\n",
    "\n",
    "df"
   ]
  },
  {
   "cell_type": "markdown",
   "metadata": {},
   "source": [
    "### Data profiling"
   ]
  },
  {
   "cell_type": "markdown",
   "metadata": {},
   "source": [
    "#### Profiling data types"
   ]
  },
  {
   "cell_type": "code",
   "execution_count": 11,
   "metadata": {},
   "outputs": [
    {
     "name": "stdout",
     "output_type": "stream",
     "text": [
      "Column 'First Name': Pandas dtype = object, Suggested MySQL type = VARCHAR(255)\n",
      "Column 'Last Name': Pandas dtype = object, Suggested MySQL type = VARCHAR(255)\n",
      "Column 'Email': Pandas dtype = object, Suggested MySQL type = VARCHAR(255)\n",
      "Column 'Application Date': Pandas dtype = object, Suggested MySQL type = VARCHAR(255)\n",
      "Column 'Country': Pandas dtype = object, Suggested MySQL type = VARCHAR(255)\n",
      "Column 'YOE': Pandas dtype = int64, Suggested MySQL type = <class 'sqlalchemy.sql.sqltypes.BIGINT'>\n",
      "Column 'Seniority': Pandas dtype = object, Suggested MySQL type = VARCHAR(255)\n",
      "Column 'Technology': Pandas dtype = object, Suggested MySQL type = VARCHAR(255)\n",
      "Column 'Code Challenge Score': Pandas dtype = int64, Suggested MySQL type = <class 'sqlalchemy.sql.sqltypes.BIGINT'>\n",
      "Column 'Technical Interview Score': Pandas dtype = int64, Suggested MySQL type = <class 'sqlalchemy.sql.sqltypes.BIGINT'>\n"
     ]
    }
   ],
   "source": [
    "def pandas_to_mysql_type(pandas_dtype):\n",
    "    if pd.api.types.is_integer_dtype(pandas_dtype):\n",
    "        return sqltypes.BIGINT  \n",
    "    elif pd.api.types.is_numeric_dtype(pandas_dtype) and not pd.api.types.is_integer_dtype(pandas_dtype):  \n",
    "        return sqltypes.FLOAT  \n",
    "    elif pd.api.types.is_datetime64_any_dtype(pandas_dtype):\n",
    "        return sqltypes.DATETIME  \n",
    "    elif pd.api.types.is_bool_dtype(pandas_dtype):\n",
    "        return sqltypes.BOOLEAN\n",
    "    elif isinstance(pandas_dtype, pd.CategoricalDtype):  \n",
    "        return sqltypes.ENUM  \n",
    "    else:  \n",
    "        return sqltypes.VARCHAR(255)  \n",
    "\n",
    "for col_name, col_dtype in df.dtypes.items():\n",
    "    mysql_type = pandas_to_mysql_type(col_dtype)\n",
    "    print(f\"Column '{col_name}': Pandas dtype = {col_dtype}, Suggested MySQL type = {mysql_type}\")\n"
   ]
  },
  {
   "cell_type": "markdown",
   "metadata": {},
   "source": [
    "#### Profiling the lenght of numerical values"
   ]
  },
  {
   "cell_type": "code",
   "execution_count": 12,
   "metadata": {},
   "outputs": [
    {
     "name": "stdout",
     "output_type": "stream",
     "text": [
      "Maximum values in numeric columns:\n",
      "YOE                          30\n",
      "Code Challenge Score         10\n",
      "Technical Interview Score    10\n",
      "dtype: int64\n"
     ]
    }
   ],
   "source": [
    "# Display the maximum values of numeric columns\n",
    "print(\"Maximum values in numeric columns:\")\n",
    "print(df.max(numeric_only=True))"
   ]
  },
  {
   "cell_type": "markdown",
   "metadata": {},
   "source": [
    "#### Profilingh the lenght of the string values"
   ]
  },
  {
   "cell_type": "code",
   "execution_count": 13,
   "metadata": {},
   "outputs": [
    {
     "name": "stdout",
     "output_type": "stream",
     "text": [
      "Maximum string lengths in text columns:\n",
      "First Name          11\n",
      "Last Name           13\n",
      "Email               36\n",
      "Application Date    10\n",
      "Country             51\n",
      "Seniority            9\n",
      "Technology          39\n",
      "dtype: int64\n"
     ]
    }
   ],
   "source": [
    "text_columns = df.select_dtypes(include=['object'])\n",
    "\n",
    "# Calculate the length of each string in the text columns\n",
    "lengths = text_columns.apply(lambda col: col.map(lambda x: len(str(x))))\n",
    "\n",
    "# Find the maximum string lengths for each text column\n",
    "max_lengths = lengths.max()\n",
    "\n",
    "# Display the results\n",
    "print(\"Maximum string lengths in text columns:\")\n",
    "print(max_lengths)\n"
   ]
  },
  {
   "cell_type": "markdown",
   "metadata": {},
   "source": [
    "### Data base schema creation"
   ]
  },
  {
   "cell_type": "code",
   "execution_count": 13,
   "metadata": {},
   "outputs": [],
   "source": [
    "def get_engine():\n",
    "    \"\"\"SQLAlchemy engine for MySQL connection.\"\"\"\n",
    "    return create_engine(\n",
    "        f\"mysql+mysqlconnector://{os.getenv('MYSQL_USER')}:{os.getenv('MYSQL_PASSWORD')}@{os.getenv('MYSQL_HOST')}:{os.getenv('MYSQL_PORT')}/{os.getenv('MYSQL_DB')}\"\n",
    "    )"
   ]
  },
  {
   "cell_type": "code",
   "execution_count": 20,
   "metadata": {},
   "outputs": [
    {
     "name": "stdout",
     "output_type": "stream",
     "text": [
      "Table 'candidates' created successfully!\n"
     ]
    }
   ],
   "source": [
    "# Base class for ORM models\n",
    "Base = declarative_base()\n",
    "\n",
    "# Define the table structure\n",
    "class Applicants(Base):\n",
    "    __tablename__ = 'candidates'  # Table name\n",
    "    \n",
    "    id = Column(Integer, primary_key=True, autoincrement=True)\n",
    "    first_name = Column(\"First Name\", String(20), nullable=False)\n",
    "    last_name = Column(\"Last Name\", String(20), nullable=False)\n",
    "    email = Column(\"Email\", String(50), nullable=False)\n",
    "    application_date = Column(\"Application Date\", String(20), nullable=False)\n",
    "    country = Column(\"Country\", String(60), nullable=False)\n",
    "    yoe = Column(\"YOE\", Integer, nullable=False)\n",
    "    seniority = Column(\"Seniority\", String(15), nullable=False)\n",
    "    technology = Column(\"Technology\", String(50), nullable=False)\n",
    "    code_challenge_score = Column(\"Code Challenge Score\", Integer, nullable=False)\n",
    "    technical_interview_score = Column(\"Technical Interview Score\", Integer, nullable=False)\n",
    "\n",
    "# Function to create the table\n",
    "def create_tables():\n",
    "    engine = get_engine()\n",
    "    Base.metadata.create_all(engine)\n",
    "    print(\"Table 'candidates' created successfully!\")\n",
    "\n",
    "if __name__ == \"__main__\":\n",
    "    create_tables()\n"
   ]
  },
  {
   "cell_type": "markdown",
   "metadata": {},
   "source": [
    "### Data migration to MySQL \"ws_001\" database"
   ]
  },
  {
   "cell_type": "code",
   "execution_count": null,
   "metadata": {},
   "outputs": [
    {
     "name": "stdout",
     "output_type": "stream",
     "text": [
      "Conexión exitosa\n",
      "Data inserted into 'candidates' succesfully.\n"
     ]
    }
   ],
   "source": [
    "def insert_data(df, table_name):\n",
    "    \"\"\"\n",
    "    Inserts data from DataFrame to DB in MySQL.\n",
    "\n",
    "    :param df: DataFrame with data to insert.\n",
    "    :param table_name: name of the table where data is supossed to be inserted.\n",
    "    \"\"\"\n",
    "    try:\n",
    "        engine = get_engine()  \n",
    "        print(\"Succesful connection.\")\n",
    "\n",
    "        df.to_sql(name=table_name, con=engine, if_exists='append', index=False)\n",
    "        print(f\"Data inserted into '{table_name}' succesfully.\")\n",
    "\n",
    "    except Exception as e:\n",
    "        print(f\"Error : {e}\")\n",
    "\n",
    " \n",
    "insert_data(df, \"candidates\")\n"
   ]
  }
 ],
 "metadata": {
  "kernelspec": {
   "display_name": "venv",
   "language": "python",
   "name": "python3"
  },
  "language_info": {
   "codemirror_mode": {
    "name": "ipython",
    "version": 3
   },
   "file_extension": ".py",
   "mimetype": "text/x-python",
   "name": "python",
   "nbconvert_exporter": "python",
   "pygments_lexer": "ipython3",
   "version": "3.12.9"
  }
 },
 "nbformat": 4,
 "nbformat_minor": 2
}
